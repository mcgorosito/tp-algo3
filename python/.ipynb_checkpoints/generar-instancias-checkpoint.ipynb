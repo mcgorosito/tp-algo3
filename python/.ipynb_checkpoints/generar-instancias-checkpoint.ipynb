{
 "cells": [
  {
   "cell_type": "markdown",
   "metadata": {},
   "source": [
    "# Generador de instancias\n",
    "En este notebook está el código para generar los sets de instancias que se usan para experimentar.\n",
    "- Estas instancias van a ser guardadas en la carpeta __instancias__.\n",
    "- Cada set estará en su propia carpeta y tendrá un archivo _indice.csv_ que contendrá información sobre las instancias."
   ]
  },
  {
   "cell_type": "code",
   "execution_count": 2,
   "metadata": {},
   "outputs": [],
   "source": [
    "import random, math\n",
    "import pandas as pd"
   ]
  },
  {
   "cell_type": "code",
   "execution_count": 3,
   "metadata": {},
   "outputs": [],
   "source": [
    "def save_instance(dataset, instance_name, locales, M):\n",
    "    with open(F\"instancias/{dataset}/{instance_name}.txt\", \"w\") as f:\n",
    "        print(len(locales), M, file=f)\n",
    "        for local in locales: \n",
    "            print(str(local[0])+\" \"+str(local[1]), file=f, end=\"\\n\")\n",
    "\n",
    "def save_index(dataset, instances):\n",
    "    with open(F\"instancias/{dataset}/instances.txt\", \"w\") as f:\n",
    "        for instance in instances: \n",
    "            print(instance, file=f)"
   ]
  },
  {
   "cell_type": "markdown",
   "metadata": {},
   "source": [
    "## Dataset 1\n",
    "Instancias generadas para el mejor caso de backtracking, la generación de las mismas está descripta en el informe.\n",
    "\n",
    "Locales = ${l_1,..,l_n}$ con limite_contagio <= $c_{i}$ para todo i = {1,..,n} y existe k $\\in$ {1,..,n} $b_{k}$ >= $b_{i}$ $\\forall$ i = {1,..,n}"
   ]
  },
  {
   "cell_type": "code",
   "execution_count": 38,
   "metadata": {},
   "outputs": [],
   "source": [
    "filas_indice = []\n",
    "for cantidad_locales in range(1, 1001):\n",
    "    limite_contagio = cantidad_locales\n",
    "    locales = [(1,limite_contagio+1) for i in range(0, cantidad_locales)]\n",
    "    save_instance(\"mejor-caso-BT\", F\"BT-MC-{cantidad_locales}\", locales, limite_contagio)\n",
    "    filas_indice.append([\"mejor-caso-BT\", F\"BT-MC-{cantidad_locales}\", cantidad_locales, limite_contagio, F\"instancias/mejor-caso-BT/BT-MC-{cantidad_locales}.txt\"])\n",
    "pd.DataFrame(filas_indice, columns=[\"dataset\", \"instancia\", \"cantidad_locales\", \"limite_contagio\", \"archivo\"]).to_csv(\"instancias/mejor-caso-BT/indice.csv\", index=False, header=True)"
   ]
  },
  {
   "cell_type": "markdown",
   "metadata": {},
   "source": [
    "## Dataset 2\n",
    "Instancias de caso intermedio de backtracking aprovechando poda por optimalidad, están descriptas en el informe en más detalle.\n",
    "\n",
    "Locales = $\\{l_1,..,l_n\\}$ con $l_i = (b_i, c_i)$, donde $b_i$ es el beneficio y $c_i$ es el contagio"
   ]
  },
  {
   "cell_type": "code",
   "execution_count": 39,
   "metadata": {},
   "outputs": [],
   "source": [
    "filas_indice = []\n",
    "for cantidad_locales in range(1, 101):\n",
    "    limite_contagio = cantidad_locales\n",
    "    locales = [(((i+1)%2)*2,1) for i in range(0, cantidad_locales)]\n",
    "    save_instance(\"caso-intermedio-BT\", F\"BT-IC-{cantidad_locales}\", locales, limite_contagio)\n",
    "    filas_indice.append([\"caso-intermedio-BT\", F\"BT-IC-{cantidad_locales}\", cantidad_locales, limite_contagio, F\"instancias/caso-intermedio-BT/BT-IC-{cantidad_locales}.txt\"])\n",
    "pd.DataFrame(filas_indice, columns=[\"dataset\", \"instancia\", \"cantidad_locales\", \"limite_contagio\", \"archivo\"]).to_csv(\"instancias/caso-intermedio-BT/indice.csv\", index=False, header=True)"
   ]
  },
  {
   "cell_type": "markdown",
   "metadata": {},
   "source": [
    "## Dataset 3\n",
    "Instancias de peor caso de backtracking, están descriptas en el informe en más detalle.\n",
    "\n",
    "Locales = $\\{l_1,..,l_n\\}$ con $l_i = (b_i, c_i)$, donde $b_i$ es el beneficio y $c_i$ es el contagio"
   ]
  },
  {
   "cell_type": "code",
   "execution_count": 40,
   "metadata": {},
   "outputs": [],
   "source": [
    "filas_indice = []\n",
    "for cantidad_locales in range(1, 46): \n",
    "    limite_contagio = cantidad_locales \n",
    "    locales = [(1,1) for i in range(0, cantidad_locales)]\n",
    "    locales.append((2*cantidad_locales,limite_contagio))\n",
    "    save_instance(\"peor-caso-BT\", F\"BT-PC-{cantidad_locales}\", locales, limite_contagio)\n",
    "    filas_indice.append([\"peor-caso-BT\", F\"BT-PC-{cantidad_locales}\", cantidad_locales, limite_contagio, F\"instancias/peor-caso-BT/BT-PC-{cantidad_locales}.txt\"])\n",
    "pd.DataFrame(filas_indice, columns=[\"dataset\", \"instancia\", \"cantidad_locales\", \"limite_contagio\", \"archivo\"]).to_csv(\"instancias/peor-caso-BT/indice.csv\", index=False, header=True)"
   ]
  },
  {
   "cell_type": "markdown",
   "metadata": {},
   "source": [
    "## Dataset 4\n",
    "Instancias con baja densidad de contagio:\n",
    "\n",
    "Locales = $\\{l_1,..,l_n\\}$ con $l_i = (b_i, c_i)$, donde $b_i$ es el beneficio y $c_i$ es el contagio. Con M sustancialmente menor que n."
   ]
  },
  {
   "cell_type": "code",
   "execution_count": 13,
   "metadata": {},
   "outputs": [],
   "source": [
    "filas_indice = []\n",
    "for cantidad_locales in range(1, 151):\n",
    "    for i in range(0,10): #por cada instancia, generamos 10 con la misma cantidad de locales para que se reduzca el ruido del random\n",
    "        limite_contagio = max(1, math.floor(cantidad_locales / 4)) \n",
    "        locales = [(random.randint(cantidad_locales+1,(cantidad_locales+1)*10), random.randint(0,max(1,math.floor(limite_contagio/2)))) for i in range(0, cantidad_locales)]\n",
    "        save_instance(\"bajo_contagio\", F\"BAJO_CONTAGIO-{cantidad_locales}\", locales, limite_contagio)\n",
    "        filas_indice.append([\"bajo_contagio\", F\"BAJO_CONTAGIO-{cantidad_locales}\", cantidad_locales, limite_contagio, F\"instancias/bajo_contagio/BAJO_CONTAGIO-{cantidad_locales}.txt\"])\n",
    "pd.DataFrame(filas_indice, columns=[\"dataset\", \"instancia\", \"cantidad_locales\", \"limite_contagio\", \"archivo\"]).to_csv(\"instancias/bajo_contagio/indice.csv\", index=False, header=True)"
   ]
  },
  {
   "cell_type": "markdown",
   "metadata": {},
   "source": [
    "# Dataset 5\n",
    "Instancias variando cantidad_locales y limite_contagio con caso promedio."
   ]
  },
  {
   "cell_type": "code",
   "execution_count": 34,
   "metadata": {},
   "outputs": [],
   "source": [
    "filas_indice = []\n",
    "for cantidad_locales in range(100, 1701,10):\n",
    "    for limite_contagio in range(100, 1701,10):\n",
    "        locales = [(random.randint(1,cantidad_locales*10), random.randint(1,cantidad_locales*10)) for i in range(0, cantidad_locales)]\n",
    "        save_instance(\"variacion_n_m\", F\"DP-{cantidad_locales}-{limite_contagio}\", locales, limite_contagio)\n",
    "        filas_indice.append([\"variacion_n_m\", F\"DP-{cantidad_locales}-{limite_contagio}\", cantidad_locales, limite_contagio, F\"instancias/variacion_n_m/DP-{cantidad_locales}-{limite_contagio}.txt\"])\n",
    "pd.DataFrame(filas_indice, columns=[\"dataset\", \"instancia\", \"cantidad_locales\", \"limite_contagio\", \"archivo\"]).to_csv(\"instancias/variacion_n_m/indice.csv\", index=False, header=True)"
   ]
  },
  {
   "cell_type": "markdown",
   "metadata": {},
   "source": [
    "## Dataset 6\n",
    "Instancias con alta densidad de contagio: \n",
    "\n",
    "Locales = $\\{l_1,..,l_n\\}$ con $l_i = (b_i, c_i)$, donde $b_i$ es el beneficio y $c_i$ es el contagio. Con M significativamente mayor a n."
   ]
  },
  {
   "cell_type": "code",
   "execution_count": 15,
   "metadata": {},
   "outputs": [],
   "source": [
    "filas_indice = []\n",
    "for cantidad_locales in range(1, 151):\n",
    "    for i in range(0,10):#por cada instancia, generamos 10 con la misma cantidad de locales para que se reduzca el ruido del random\n",
    "        limite_contagio = cantidad_locales**3\n",
    "        locales = [(random.randint(1,(cantidad_locales+1)*2), random.randint(cantidad_locales**2,(cantidad_locales+1)**3.0)) for i in range(0, cantidad_locales)]\n",
    "        save_instance(\"alto_contagio\", F\"ALTO_CONTAGIO-{cantidad_locales}\", locales, limite_contagio)\n",
    "        filas_indice.append([\"alto_contagio\", F\"ALTO_CONTAGIO-{cantidad_locales}\", cantidad_locales, limite_contagio, F\"instancias/alto_contagio/ALTO_CONTAGIO-{cantidad_locales}.txt\"])\n",
    "pd.DataFrame(filas_indice, columns=[\"dataset\", \"instancia\", \"cantidad_locales\", \"limite_contagio\", \"archivo\"]).to_csv(\"instancias/alto_contagio/indice.csv\", index=False, header=True)"
   ]
  },
  {
   "cell_type": "code",
   "execution_count": null,
   "metadata": {},
   "outputs": [],
   "source": []
  }
 ],
 "metadata": {
  "kernelspec": {
   "display_name": "Python 3",
   "language": "python",
   "name": "python3"
  },
  "language_info": {
   "codemirror_mode": {
    "name": "ipython",
    "version": 3
   },
   "file_extension": ".py",
   "mimetype": "text/x-python",
   "name": "python",
   "nbconvert_exporter": "python",
   "pygments_lexer": "ipython3",
   "version": "3.8.2"
  }
 },
 "nbformat": 4,
 "nbformat_minor": 4
}
