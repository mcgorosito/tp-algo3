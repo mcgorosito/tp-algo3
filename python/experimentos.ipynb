{
 "cells": [
  {
   "cell_type": "markdown",
   "metadata": {},
   "source": [
    "# Correr experimentos\n",
    "En este archivo está el código para correr los experimentos y escribir los resultados en archivos CSV.\n",
    "> Los archivos se guardan en la carpeta _resultados_ en formato csv."
   ]
  },
  {
   "cell_type": "code",
   "execution_count": 78,
   "metadata": {},
   "outputs": [],
   "source": [
    "import math, subprocess\n",
    "import pandas as pd\n",
    "import numpy as np\n",
    "from IPython.display import display, clear_output"
   ]
  },
  {
   "cell_type": "markdown",
   "metadata": {},
   "source": [
    "A continuación leemos los datasets en dataframes de Pandas."
   ]
  },
  {
   "cell_type": "markdown",
   "metadata": {},
   "source": [
    "La siguiente función sirve para correr el código sobre una instancia ejecutando un método en particular.\n",
    "- FB: Fuerza bruta\n",
    "- BT: Backtracking con ambas podas.\n",
    "- BT-F: Backtracking solamente con poda por factibilidad.\n",
    "- BT-O: Backtracking solamente con poda por optimalidad.\n",
    "- DP: Programación dinámica."
   ]
  },
  {
   "cell_type": "code",
   "execution_count": 79,
   "metadata": {},
   "outputs": [],
   "source": [
    "def leer_instancia(path_instancia):\n",
    "    with open(path_instancia, \"r\") as f:\n",
    "        return f.read();\n",
    "\n",
    "df_alto_contagio = pd.read_csv(\"instancias/alto_contagio/indice.csv\");\n",
    "df_bajo_contagio = pd.read_csv(\"instancias/bajo_contagio/indice.csv\");\n",
    "df_mejor_caso_bt = pd.read_csv(\"instancias/mejor-caso-BT/indice.csv\");\n",
    "df_caso_intermedio_bt = pd.read_csv(\"instancias/caso-intermedio-BT/indice.csv\");\n",
    "df_peor_caso_bt = pd.read_csv(\"instancias/peor-caso-BT/indice.csv\");\n",
    "df_variacion_n_m = pd.read_csv(\"instancias/variacion_n_m/indice.csv\");"
   ]
  },
  {
   "cell_type": "markdown",
   "metadata": {},
   "source": [
    "## Corremos los experimentos\n",
    "Vamos a guardar una tabla con las ejecuciones y sus respectivos tiempos."
   ]
  },
  {
   "cell_type": "code",
   "execution_count": 80,
   "metadata": {},
   "outputs": [],
   "source": [
    "def correr_experimento(metodo, archivo_instancia):\n",
    "    # Leer archivo de la instancia.\n",
    "    instancia = leer_instancia(archivo_instancia)\n",
    "    \n",
    "    # Crear proceso para ejecutar el codigo.\n",
    "    process = subprocess.Popen([\"../npm\", metodo], stderr=subprocess.PIPE, stdout=subprocess.PIPE, stdin=subprocess.PIPE, universal_newlines = True)\n",
    "\n",
    "    # Poner la instancia en la entrada estandar.\n",
    "    process.stdin.write(instancia)\n",
    "    process.stdin.flush()\n",
    "\n",
    "    # Correr experimento.\n",
    "    exit_code = process.wait()\n",
    "\n",
    "    # Verificar que el proceso no fallo.\n",
    "    if (exit_code != 0): raise(F\"Hubo un error en la experimentacion para el algoritmo: {algoritmo} con la instancia {archivo_instancia}.\")\n",
    "    # Leer salida de STDERR con los tiempos de ejecucion de cada metodo.\n",
    "    tiempo_de_ejecucion = float(process.stderr.read());\n",
    "    \n",
    "    process.stdin.close();\n",
    "    process.stdout.close();\n",
    "    process.stderr.close();\n",
    "    \n",
    "    return tiempo_de_ejecucion;"
   ]
  },
  {
   "cell_type": "code",
   "execution_count": 81,
   "metadata": {},
   "outputs": [],
   "source": [
    "experimentos = [];"
   ]
  },
  {
   "cell_type": "markdown",
   "metadata": {},
   "source": [
    "## Experimento 1: Complejidad de Fuerza Bruta\n",
    "\n",
    "Correr Fuerza Bruta en las primeras 40 instancias con cantidades de locales distintas para bajo_contagio y alto_contagio."
   ]
  },
  {
   "cell_type": "code",
   "execution_count": 44,
   "metadata": {},
   "outputs": [],
   "source": [
    "for n in range(0, 400,10):\n",
    "    fila_n = df_alto_contagio.iloc[n];\n",
    "    experimentos.append([fila_n[\"dataset\"], fila[\"cantidad_locales\"], fila_n[\"limite_contagio\"], \"FB\", fila_n[\"archivo\"]]);\n",
    "\n",
    "for n in range(0, 400,10):\n",
    "    fila_n = df_bajo_contagio.iloc[n];\n",
    "    experimentos.append([fila_n[\"dataset\"], fila[\"cantidad_locales\"], fila_n[\"limite_contagio\"], \"FB\", fila_n[\"archivo\"]]);\n"
   ]
  },
  {
   "cell_type": "markdown",
   "metadata": {},
   "source": [
    "## Experimento 2 : Complejidad de Backtracking\n",
    "Correr BT para mejor caso, caso intermedio y peor caso."
   ]
  },
  {
   "cell_type": "code",
   "execution_count": 45,
   "metadata": {},
   "outputs": [],
   "source": [
    "for n in range(0, df_mejor_caso_bt.shape[0]):\n",
    "    fila_n = df_mejor_caso_bt.iloc[n];\n",
    "    experimentos.append([fila_n[\"dataset\"], n, fila_n[\"limite_contagio\"], \"BT\", fila_n[\"archivo\"]]);\n",
    "\n",
    "for n in range(0, df_caso_intermedio_bt.shape[0]):\n",
    "    fila_n = df_caso_intermedio_bt.iloc[n];\n",
    "    experimentos.append([fila_n[\"dataset\"], n, fila_n[\"limite_contagio\"], \"BT\", fila_n[\"archivo\"]]);\n",
    "\n",
    "for n in range(0, df_peor_caso_bt.shape[0]):\n",
    "    fila_n = df_peor_caso_bt.iloc[n];\n",
    "    experimentos.append([fila_n[\"dataset\"], n, fila_n[\"limite_contagio\"], \"BT\", fila_n[\"archivo\"]]);\n"
   ]
  },
  {
   "cell_type": "markdown",
   "metadata": {},
   "source": [
    "## Experimento 3 : Efectividad de las podas\n",
    "Correr BT, BT-F, BT-O para instancias generadas de altos indices y bajos indices de contagio."
   ]
  },
  {
   "cell_type": "code",
   "execution_count": 82,
   "metadata": {},
   "outputs": [],
   "source": [
    "for n in range(0, 500):\n",
    "    fila_n = df_alto_contagio.iloc[n];\n",
    "    experimentos.append([fila_n[\"dataset\"], fila_n[\"cantidad_locales\"], fila_n[\"limite_contagio\"], \"BT\", fila_n[\"archivo\"]]);\n",
    "    if(n<=400):\n",
    "        experimentos.append([fila_n[\"dataset\"], fila_n[\"cantidad_locales\"], fila_n[\"limite_contagio\"], \"BT-F\", fila_n[\"archivo\"]]);\n",
    "        experimentos.append([fila_n[\"dataset\"], fila_n[\"cantidad_locales\"], fila_n[\"limite_contagio\"], \"BT-O\", fila_n[\"archivo\"]]);\n",
    "\n",
    "for n in range(0, 500):\n",
    "    fila_n = df_bajo_contagio.iloc[n];\n",
    "    experimentos.append([fila_n[\"dataset\"], fila_n[\"cantidad_locales\"], fila_n[\"limite_contagio\"], \"BT\", fila_n[\"archivo\"]]);\n",
    "    if(n<=400):\n",
    "        experimentos.append([fila_n[\"dataset\"], fila_n[\"cantidad_locales\"], fila_n[\"limite_contagio\"], \"BT-F\", fila_n[\"archivo\"]]);\n",
    "        experimentos.append([fila_n[\"dataset\"], fila_n[\"cantidad_locales\"], fila_n[\"limite_contagio\"], \"BT-O\", fila_n[\"archivo\"]]);\n",
    "    "
   ]
  },
  {
   "cell_type": "markdown",
   "metadata": {},
   "source": [
    "## Experimento 4: Complejidad de Programación dinámica\n",
    "Correr DP para el dataset que varía la cantidad de locales y el límite de contagios."
   ]
  },
  {
   "cell_type": "code",
   "execution_count": 47,
   "metadata": {},
   "outputs": [],
   "source": [
    "for i in range(0, df_variacion_n_m.shape[0]):\n",
    "    fila = df_variacion_n_m.iloc[i];\n",
    "    experimentos.append([fila[\"dataset\"], fila[\"cantidad_locales\"], fila[\"limite_contagio\"], \"DP\", fila[\"archivo\"]]);\n"
   ]
  },
  {
   "cell_type": "markdown",
   "metadata": {},
   "source": [
    "## Experimento 5 : Backtracking vs. Programación dinámica\n",
    "Correr DP para el dataset _bajo-contagio_ y _alto-contagio_."
   ]
  },
  {
   "cell_type": "code",
   "execution_count": 83,
   "metadata": {},
   "outputs": [],
   "source": [
    "for i in range(0, df_bajo_contagio.shape[0]):\n",
    "    fila = df_bajo_contagio.iloc[i];\n",
    "    experimentos.append([fila[\"dataset\"], fila[\"cantidad_locales\"], fila[\"limite_contagio\"], \"DP\", fila[\"archivo\"]]);\n",
    "    \n",
    "for i in range(0, 400):\n",
    "    fila = df_alto_contagio.iloc[i];\n",
    "    experimentos.append([fila[\"dataset\"], fila[\"cantidad_locales\"], fila[\"limite_contagio\"], \"DP\", fila[\"archivo\"]]);\n"
   ]
  },
  {
   "cell_type": "markdown",
   "metadata": {},
   "source": [
    "## Ejecutar los experimentos y guardar los resultados en un archivo CSV.\n",
    "Este paso puede tardar unos minutos hasta terminar de ejecutarse."
   ]
  },
  {
   "cell_type": "code",
   "execution_count": 84,
   "metadata": {},
   "outputs": [
    {
     "data": {
      "text/plain": [
       "'Experimento: 4504/4504'"
      ]
     },
     "metadata": {},
     "output_type": "display_data"
    }
   ],
   "source": [
    "columnas = [\"dataset\", \"cantidad_locales\", \"limite_contagio\", \"metodo\", \"tiempo\"];\n",
    "filas = [];\n",
    "numero = 1\n",
    "T = 15 # Numero de veces que se ejecuta cada experimento (para mayor fidelidad del tiempo).\n",
    "for experimento in experimentos:\n",
    "    # Voy mostrando que experimento se esta ejecutando.\n",
    "    clear_output(wait=True)\n",
    "    display('Experimento: ' + str(numero) + \"/\" + str(len(experimentos)))\n",
    "    numero += 1\n",
    "    \n",
    "    # Ejecutamos el experimento T veces y obtenemos la mediana.\n",
    "    tiempos = []\n",
    "    for i in range(0, T):\n",
    "        tiempos.append(correr_experimento(experimento[3], experimento[4]));\n",
    "    tiempo = np.median(tiempos);\n",
    "    filas.append([experimento[0], experimento[1], experimento[2], experimento[3], tiempo]);\n",
    "df_resultado = pd.DataFrame(filas, columns=columnas);\n",
    "df_resultado.to_csv(\"resultados/resultados.csv\", index=False, header=True);"
   ]
  },
  {
   "cell_type": "code",
   "execution_count": null,
   "metadata": {},
   "outputs": [],
   "source": []
  }
 ],
 "metadata": {
  "kernelspec": {
   "display_name": "Python 3",
   "language": "python",
   "name": "python3"
  },
  "language_info": {
   "codemirror_mode": {
    "name": "ipython",
    "version": 3
   },
   "file_extension": ".py",
   "mimetype": "text/x-python",
   "name": "python",
   "nbconvert_exporter": "python",
   "pygments_lexer": "ipython3",
   "version": "3.8.2"
  }
 },
 "nbformat": 4,
 "nbformat_minor": 4
}
